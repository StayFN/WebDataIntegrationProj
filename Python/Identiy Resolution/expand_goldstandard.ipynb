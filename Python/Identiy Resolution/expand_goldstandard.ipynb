{
 "cells": [
  {
   "cell_type": "code",
   "execution_count": 67,
   "metadata": {},
   "outputs": [],
   "source": [
    "import pandas as pd"
   ]
  },
  {
   "cell_type": "markdown",
   "metadata": {},
   "source": [
    "## SBTI - Forbes"
   ]
  },
  {
   "cell_type": "code",
   "execution_count": 56,
   "metadata": {},
   "outputs": [],
   "source": [
    "colnames=[\"sbti_uid\", 'forbes_uid', \"match\"]\n",
    "sbti_forbes_gs = pd.read_csv(\"/home/maria/STUDIUM/Master/5.Semester/web data integration/Project/WebDataIntegrationProj/Python/Identiy Resolution/goldstandard/sbti_forbes_goldstandard.csv\", names=colnames)\n",
    "sbti_sbti_fuzzyscores = pd.read_excel(\"/home/maria/STUDIUM/Master/5.Semester/web data integration/Project/WebDataIntegrationProj/Python/Identiy Resolution/fuzzy_matching/forbes_sbti_fuzzy_match_min10_results.xlsx\")"
   ]
  },
  {
   "cell_type": "code",
   "execution_count": 48,
   "metadata": {},
   "outputs": [],
   "source": [
    "sbti_forbes_gs[\"sbti_fobes_uids\"] = sbti_forbes_gs[\"sbti_uid\"] + sbti_forbes_gs[\"forbes_uid\"]\n",
    "sbti_forbes_fuzzyscores[\"sbti_fobes_uids\"] = sbti_forbes_fuzzyscores[\"sbti_uid\"]  +sbti_forbes_fuzzyscores[\"forbes_uid\"]"
   ]
  },
  {
   "cell_type": "code",
   "execution_count": 49,
   "metadata": {},
   "outputs": [],
   "source": [
    "# filter out matches that are already in the goldstandard (avoid duplicates)\n",
    "sbti_forbes_fuzzyscores = sbti_forbes_fuzzyscores[~sbti_forbes_fuzzyscores[\"sbti_fobes_uids\"].isin(sbti_forbes_gs[\"sbti_fobes_uids\"])]\n"
   ]
  },
  {
   "cell_type": "code",
   "execution_count": 50,
   "metadata": {},
   "outputs": [],
   "source": [
    "# filter matches & shuffle dataframe (similarity = 100)\n",
    "sbti_forbes_matches = sbti_forbes_fuzzyscores[sbti_forbes_fuzzyscores[\"Similarity Score\"] == 100].sample(frac = 1)\n",
    "sbti_forbes_matches.to_csv(\"/home/maria/STUDIUM/Master/5.Semester/web data integration/Project/WebDataIntegrationProj/Python/Identiy Resolution/goldstandard/expanded goldstandard/sbti_forbes_matches.csv\", index = False)"
   ]
  },
  {
   "cell_type": "code",
   "execution_count": 51,
   "metadata": {},
   "outputs": [],
   "source": [
    "# filter non-matches & shuffle dataframe (similarity < 85)\n",
    "sbti_forbes_nonmatches = sbti_forbes_fuzzyscores[sbti_forbes_fuzzyscores[\"Similarity Score\"] <85].sample(frac = 1)\n",
    "sbti_forbes_nonmatches.to_csv(\"/home/maria/STUDIUM/Master/5.Semester/web data integration/Project/WebDataIntegrationProj/Python/Identiy Resolution/goldstandard/expanded goldstandard/sbti_forbes_nonmatches.csv\", index = False)"
   ]
  },
  {
   "cell_type": "code",
   "execution_count": 52,
   "metadata": {},
   "outputs": [],
   "source": [
    "# filter possible corner cases (similarity 85-99)\n",
    "sbti_forbes_corner = sbti_forbes_fuzzyscores[(sbti_forbes_fuzzyscores[\"Similarity Score\"] >=85) & (sbti_forbes_fuzzyscores[\"Similarity Score\"] <100)].sample(frac = 1)\n",
    "sbti_forbes_corner.to_csv(\"/home/maria/STUDIUM/Master/5.Semester/web data integration/Project/WebDataIntegrationProj/Python/Identiy Resolution/goldstandard/expanded goldstandard/sbti_forbes_cornerCases.csv\", index = False)"
   ]
  },
  {
   "cell_type": "markdown",
   "metadata": {},
   "source": [
    "## DBpedia-Forbes"
   ]
  },
  {
   "cell_type": "code",
   "execution_count": 6,
   "metadata": {},
   "outputs": [],
   "source": [
    "# load goldstandard and fuzzy match scores dataset\n",
    "colnames=[\"dbpedia_uid\", 'forbes_uid', \"match\"]\n",
    "dbpedia_forbes_gs = pd.read_csv(\"/home/maria/STUDIUM/Master/5.Semester/web data integration/Project/WebDataIntegrationProj/Python/Identiy Resolution/goldstandard/dbpedia_forbes_goldstandard.csv\", names=colnames)\n",
    "dbpedia_forbes_fuzzyscores = pd.read_excel(\"/home/maria/STUDIUM/Master/5.Semester/web data integration/Project/WebDataIntegrationProj/Python/Identiy Resolution/fuzzy_matching/dbp_forbes_fuzzy_match_results.xlsx\")"
   ]
  },
  {
   "cell_type": "code",
   "execution_count": 8,
   "metadata": {},
   "outputs": [],
   "source": [
    "dbpedia_forbes_gs[\"dbpedia_fobes_uids\"] = dbpedia_forbes_gs[\"dbpedia_uid\"] + dbpedia_forbes_gs[\"forbes_uid\"]\n",
    "dbpedia_forbes_fuzzyscores[\"dbpedia_fobes_uids\"] = dbpedia_forbes_fuzzyscores[\"dbpedia_uid\"]  +dbpedia_forbes_fuzzyscores[\"forbes_uid\"]"
   ]
  },
  {
   "cell_type": "code",
   "execution_count": 9,
   "metadata": {},
   "outputs": [
    {
     "name": "stdout",
     "output_type": "stream",
     "text": [
      "10720\n"
     ]
    }
   ],
   "source": [
    "# filter out matches that are already in the goldstandard (avoid duplicates)\n",
    "dbpedia_forbes_fuzzyscores = dbpedia_forbes_fuzzyscores[~dbpedia_forbes_fuzzyscores[\"dbpedia_fobes_uids\"].isin(dbpedia_forbes_gs[\"dbpedia_fobes_uids\"])]\n"
   ]
  },
  {
   "cell_type": "code",
   "execution_count": 14,
   "metadata": {},
   "outputs": [],
   "source": [
    "# filter matches & shuffle dataframe (similarity = 100)\n",
    "dbpedia_forbes_matches = dbpedia_forbes_fuzzyscores[dbpedia_forbes_fuzzyscores[\"Similarity Score\"] == 100].sample(frac = 1)\n",
    "dbpedia_forbes_matches.to_csv(\"/home/maria/STUDIUM/Master/5.Semester/web data integration/Project/WebDataIntegrationProj/Python/Identiy Resolution/goldstandard/expanded goldstandard/dbpedia_forbes_matches.csv\", index = False)"
   ]
  },
  {
   "cell_type": "code",
   "execution_count": 20,
   "metadata": {},
   "outputs": [],
   "source": [
    "# filter non-matches & shuffle dataframe (similarity < 85)\n",
    "dbpedia_forbes_nonmatches = dbpedia_forbes_fuzzyscores[dbpedia_forbes_fuzzyscores[\"Similarity Score\"] <85].sample(frac = 1)\n",
    "dbpedia_forbes_nonmatches.to_csv(\"/home/maria/STUDIUM/Master/5.Semester/web data integration/Project/WebDataIntegrationProj/Python/Identiy Resolution/goldstandard/expanded goldstandard/dbpedia_forbes_nonmatches.csv\", index = False)"
   ]
  },
  {
   "cell_type": "code",
   "execution_count": 23,
   "metadata": {},
   "outputs": [],
   "source": [
    "# filter possible corner cases (similarity 85-99)\n",
    "dbpedia_forbes_corner = dbpedia_forbes_fuzzyscores[(dbpedia_forbes_fuzzyscores[\"Similarity Score\"] >=85) & (dbpedia_forbes_fuzzyscores[\"Similarity Score\"] <100)].sample(frac = 1)\n",
    "dbpedia_forbes_corner.to_csv(\"/home/maria/STUDIUM/Master/5.Semester/web data integration/Project/WebDataIntegrationProj/Python/Identiy Resolution/goldstandard/expanded goldstandard/dbpedia_forbes_cornerCases.csv\", index = False)"
   ]
  },
  {
   "cell_type": "markdown",
   "metadata": {},
   "source": [
    "### DBpedia-SBTI"
   ]
  },
  {
   "cell_type": "code",
   "execution_count": 70,
   "metadata": {},
   "outputs": [],
   "source": [
    "# load goldstandard and fuzzy match scores dataset\n",
    "colnames=[\"dbpedia_uid\", 'sbti_uid', \"match\"]\n",
    "dbpedia_sbti_gs = pd.read_csv(\"/home/maria/STUDIUM/Master/5.Semester/web data integration/Project/WebDataIntegrationProj/Python/Identiy Resolution/goldstandard/dbpedia_sbti_goldstandard.csv\", names=colnames)\n",
    "dbpedia_sbti_fuzzyscores = pd.read_excel(\"/home/maria/STUDIUM/Master/5.Semester/web data integration/Project/WebDataIntegrationProj/Python/Identiy Resolution/fuzzy_matching/dbp_sbti_fuzzy_match_min10_results.xlsx\")"
   ]
  },
  {
   "cell_type": "code",
   "execution_count": 71,
   "metadata": {},
   "outputs": [],
   "source": [
    "dbpedia_sbti_gs[\"dbpedia_sbti_uids\"] = dbpedia_sbti_gs[\"dbpedia_uid\"] + dbpedia_sbti_gs[\"sbti_uid\"]\n",
    "dbpedia_sbti_fuzzyscores[\"dbpedia_sbti_uids\"] = dbpedia_sbti_fuzzyscores[\"dbpedia_uid\"]  + dbpedia_sbti_fuzzyscores[\"sbti_uid\"]"
   ]
  },
  {
   "cell_type": "code",
   "execution_count": 72,
   "metadata": {},
   "outputs": [
    {
     "name": "stdout",
     "output_type": "stream",
     "text": [
      "10720\n",
      "10547\n"
     ]
    }
   ],
   "source": [
    "# filter out matches that are already in the goldstandard (avoid duplicates)\n",
    "dbpedia_sbti_fuzzyscores = dbpedia_sbti_fuzzyscores[~dbpedia_sbti_fuzzyscores[\"dbpedia_sbti_uids\"].isin(dbpedia_sbti_gs[\"dbpedia_sbti_uids\"])]\n"
   ]
  },
  {
   "cell_type": "code",
   "execution_count": 74,
   "metadata": {},
   "outputs": [],
   "source": [
    "# filter matches & shuffle dataframe (similarity = 100)\n",
    "dbpedia_sbti_matches = dbpedia_sbti_fuzzyscores[dbpedia_sbti_fuzzyscores[\"Similarity Score\"] == 100].sample(frac = 1)\n",
    "dbpedia_sbti_matches.to_csv(\"/home/maria/STUDIUM/Master/5.Semester/web data integration/Project/WebDataIntegrationProj/Python/Identiy Resolution/goldstandard/expanded goldstandard/dbpedia_sbti_matches.csv\", index = False)"
   ]
  },
  {
   "cell_type": "code",
   "execution_count": 75,
   "metadata": {},
   "outputs": [],
   "source": [
    "# filter non-matches & shuffle dataframe (similarity < 85)\n",
    "dbpedia_sbti_nonmatches = dbpedia_sbti_fuzzyscores[dbpedia_sbti_fuzzyscores[\"Similarity Score\"] <85].sample(frac = 1)\n",
    "dbpedia_sbti_nonmatches.to_csv(\"/home/maria/STUDIUM/Master/5.Semester/web data integration/Project/WebDataIntegrationProj/Python/Identiy Resolution/goldstandard/expanded goldstandard/dbpedia_sbti_nonmatches.csv\", index = False)"
   ]
  },
  {
   "cell_type": "code",
   "execution_count": 76,
   "metadata": {},
   "outputs": [],
   "source": [
    "# filter possible corner cases (similarity 85-99)\n",
    "dbpedia_sbti_corner = dbpedia_sbti_fuzzyscores[(dbpedia_sbti_fuzzyscores[\"Similarity Score\"] >=85) & (dbpedia_sbti_fuzzyscores[\"Similarity Score\"] <100)].sample(frac = 1)\n",
    "dbpedia_sbti_corner.to_csv(\"/home/maria/STUDIUM/Master/5.Semester/web data integration/Project/WebDataIntegrationProj/Python/Identiy Resolution/goldstandard/expanded goldstandard/dbpedia_sbti_cornerCases.csv\", index = False)"
   ]
  },
  {
   "cell_type": "code",
   "execution_count": 80,
   "metadata": {},
   "outputs": [
    {
     "name": "stdout",
     "output_type": "stream",
     "text": [
      "35\n",
      "51\n",
      "87\n"
     ]
    }
   ],
   "source": [
    "matches = pd.read_csv(\"/home/maria/STUDIUM/Master/5.Semester/web data integration/Project/WebDataIntegrationProj/Python/Identiy Resolution/goldstandard/dbpedia_sbti_matches_random_sample.csv\")\n",
    "corners = pd.read_csv(\"/home/maria/STUDIUM/Master/5.Semester/web data integration/Project/WebDataIntegrationProj/Python/Identiy Resolution/goldstandard/dbpedia_sbti_corner_cases.csv\")\n",
    "\n",
    "print(len(matches))\n",
    "print(len(corners))\n",
    "print(len(dbpedia_sbti_gs) - len(matches) - len(corners)) # nonmatches"
   ]
  },
  {
   "cell_type": "code",
   "execution_count": 81,
   "metadata": {},
   "outputs": [
    {
     "name": "stdout",
     "output_type": "stream",
     "text": [
      "65\n",
      "99\n",
      "163\n"
     ]
    }
   ],
   "source": [
    "# todo\n",
    "# matches:\n",
    "print(100-len(matches))\n",
    "\n",
    "# corners\n",
    "print(150-len(corners))\n",
    "\n",
    "# nonmatches\n",
    "print(250-87)"
   ]
  },
  {
   "cell_type": "markdown",
   "metadata": {},
   "source": [
    "## check final goldstandard files for duplicates"
   ]
  },
  {
   "cell_type": "code",
   "execution_count": 82,
   "metadata": {},
   "outputs": [],
   "source": [
    "colnames=[\"sbti_uid\", 'forbes_uid', \"match\"]\n",
    "sbti_forbes_gs = pd.read_csv(\"/home/maria/STUDIUM/Master/5.Semester/web data integration/Project/WebDataIntegrationProj/Python/Identiy Resolution/goldstandard/sbti_forbes_goldstandard.csv\", names=colnames)\n",
    "\n",
    "colnames=[\"dbpedia_uid\", 'forbes_uid', \"match\"]\n",
    "dbpedia_forbes_gs = pd.read_csv(\"/home/maria/STUDIUM/Master/5.Semester/web data integration/Project/WebDataIntegrationProj/Python/Identiy Resolution/goldstandard/dbpedia_forbes_goldstandard.csv\", names=colnames)\n",
    "\n",
    "colnames=[\"dbpedia_uid\", 'sbti_uid', \"match\"]\n",
    "dbpedia_sbti_gs = pd.read_csv(\"/home/maria/STUDIUM/Master/5.Semester/web data integration/Project/WebDataIntegrationProj/Python/Identiy Resolution/goldstandard/dbpedia_sbti_goldstandard.csv\", names=colnames)"
   ]
  },
  {
   "cell_type": "code",
   "execution_count": 83,
   "metadata": {},
   "outputs": [
    {
     "name": "stdout",
     "output_type": "stream",
     "text": [
      "True\n",
      "True\n",
      "True\n"
     ]
    }
   ],
   "source": [
    "print(len(sbti_forbes_gs) == len(set(sbti_forbes_gs[\"sbti_uid\"])))\n",
    "print(len(dbpedia_forbes_gs) == len(set(dbpedia_forbes_gs[\"dbpedia_uid\"])))\n",
    "print(len(dbpedia_sbti_gs) == len(set(dbpedia_sbti_gs[\"dbpedia_uid\"])))"
   ]
  }
 ],
 "metadata": {
  "kernelspec": {
   "display_name": "llmSeminar",
   "language": "python",
   "name": "python3"
  },
  "language_info": {
   "codemirror_mode": {
    "name": "ipython",
    "version": 3
   },
   "file_extension": ".py",
   "mimetype": "text/x-python",
   "name": "python",
   "nbconvert_exporter": "python",
   "pygments_lexer": "ipython3",
   "version": "3.12.0"
  }
 },
 "nbformat": 4,
 "nbformat_minor": 2
}
