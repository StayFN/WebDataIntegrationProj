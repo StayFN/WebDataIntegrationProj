{
 "cells": [
  {
   "cell_type": "code",
   "execution_count": 11,
   "metadata": {},
   "outputs": [],
   "source": [
    "def read_goldstandard(file_path):\n",
    "    \"\"\"Reads the Goldstandard Test Data from a CSV file and returns a dictionary.\"\"\"\n",
    "    goldstandard = {}\n",
    "    with open(file_path, 'r') as file:\n",
    "        next(file)  # Skip the header\n",
    "        for line in file:\n",
    "            dbpedia, forbes, match = line.strip().split(',')\n",
    "            goldstandard[(dbpedia.strip(), forbes.strip())] = match == 'True'\n",
    "    return goldstandard\n",
    "\n",
    "def read_correspondence(file_path):\n",
    "    \"\"\"Reads the Correspondence data from a CSV file and returns a set.\"\"\"\n",
    "    correspondence = set()\n",
    "    with open(file_path, 'r') as file:\n",
    "        for line in file:\n",
    "            dbpedia, forbes, _ = line.strip().split(',')\n",
    "            # Remove quotation marks\n",
    "            dbpedia = dbpedia.strip().replace('\"', '')\n",
    "            forbes = forbes.strip().replace('\"', '')\n",
    "            correspondence.add((dbpedia, forbes))\n",
    "    return correspondence\n",
    "\n",
    "def find_false_positives_negatives(goldstandard, correspondence):\n",
    "    \"\"\"Identifies false positives and false negatives.\"\"\"\n",
    "    false_positives = []\n",
    "    false_negatives = []\n",
    "\n",
    "    # Check for false positives\n",
    "    for pair in correspondence:\n",
    "        if pair in goldstandard and not goldstandard[pair]:\n",
    "            false_positives.append(pair)\n",
    "\n",
    "    # Check for false negatives\n",
    "    for pair, match in goldstandard.items():\n",
    "        if match and pair not in correspondence:\n",
    "            false_negatives.append(pair)\n",
    "\n",
    "    return false_positives, false_negatives"
   ]
  },
  {
   "cell_type": "code",
   "execution_count": 12,
   "metadata": {},
   "outputs": [
    {
     "name": "stdout",
     "output_type": "stream",
     "text": [
      "False Positives: [('DBPedia_1048', 'Forbes_1257')]\n",
      "False Negatives: [('DBPedia_477', 'Forbes_925'), ('DBPedia_3577', 'Forbes_500'), ('DBPedia_8927', 'Forbes_1318'), ('DBPedia_5856', 'Forbes_1067'), ('DBPedia_9085', 'Forbes_1489'), ('DBPedia_4402', 'Forbes_1814'), ('DBPedia_4216', 'Forbes_1070'), ('DBPedia_2147', 'Forbes_417'), ('DBPedia_7306', 'Forbes_277'), ('DBPedia_9552', 'Forbes_1404'), ('DBPedia_270', 'Forbes_1342'), ('DBPedia_9450', 'Forbes_1045'), ('DBPedia_9365', 'Forbes_1136')]\n"
     ]
    }
   ],
   "source": [
    "# Example usage\n",
    "goldstandard_file_path = r\"C:\\Users\\stefa\\WebDataIntegrationProj\\Python\\Identiy Resolution\\goldstandard\\dbpedia_forbes_goldstandard_test.csv\"\n",
    "correspondence_file_path = r'C:\\Users\\stefa\\WebDataIntegrationProj\\Results\\IdentityResolution\\dbpedia_forbes_correspondences_ML_Ada.csv'\n",
    "\n",
    "goldstandard_data = read_goldstandard(goldstandard_file_path)\n",
    "correspondence_data = read_correspondence(correspondence_file_path)\n",
    "false_positives, false_negatives = find_false_positives_negatives(goldstandard_data, correspondence_data)\n",
    "\n",
    "print(\"False Positives:\", false_positives)\n",
    "print(\"False Negatives:\", false_negatives)"
   ]
  },
  {
   "cell_type": "code",
   "execution_count": null,
   "metadata": {},
   "outputs": [],
   "source": []
  }
 ],
 "metadata": {
  "kernelspec": {
   "display_name": "WDI",
   "language": "python",
   "name": "python3"
  },
  "language_info": {
   "codemirror_mode": {
    "name": "ipython",
    "version": 3
   },
   "file_extension": ".py",
   "mimetype": "text/x-python",
   "name": "python",
   "nbconvert_exporter": "python",
   "pygments_lexer": "ipython3",
   "version": "3.10.13"
  }
 },
 "nbformat": 4,
 "nbformat_minor": 2
}
