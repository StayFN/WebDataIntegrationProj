{
 "cells": [
  {
   "cell_type": "code",
   "execution_count": 2,
   "metadata": {},
   "outputs": [],
   "source": [
    "import pandas as pd\n",
    "from sklearn.model_selection import train_test_split"
   ]
  },
  {
   "cell_type": "code",
   "execution_count": 9,
   "metadata": {},
   "outputs": [
    {
     "name": "stdout",
     "output_type": "stream",
     "text": [
      "        dbpedia       forbes  match\n",
      "0   DBPedia_671  Forbes_1237  False\n",
      "1  DBPedia_4665   Forbes_330  False\n",
      "2  DBPedia_5348    Forbes_57  False\n",
      "3  DBPedia_8745   Forbes_991  False\n",
      "4  DBPedia_6675   Forbes_230  False\n",
      "        dbpedia       sbti  match\n",
      "0  DBPedia_2741  SBTI_3314  False\n",
      "1  DBPedia_8240  SBTI_4208  False\n",
      "2  DBPedia_1220  SBTI_1278  False\n",
      "3  DBPedia_7267  SBTI_4188  False\n",
      "4  DBPedia_1379  SBTI_3216  False\n",
      "       sbti      forbes  match\n",
      "0  SBTI_389  Forbes_280  False\n",
      "1  SBTI_399  Forbes_806  False\n",
      "2  SBTI_460   Forbes_48  False\n",
      "3  SBTI_684   Forbes_75  False\n",
      "4  SBTI_715  Forbes_413  False\n"
     ]
    }
   ],
   "source": [
    "gs_dbpedia_forbes = pd.read_csv(r'goldstandard\\dbpedia_forbes_goldstandard.csv', header=None, names=['dbpedia', 'forbes', 'match'])\n",
    "gs_dbpedia_sbti = pd.read_csv(r'goldstandard\\dbpedia_sbti_goldstandard.csv', header=None, names=['dbpedia', 'sbti', 'match'])\n",
    "gs_sbti_forbes = pd.read_csv(r'goldstandard\\sbti_forbes_goldstandard.csv', header=None, names=['sbti', 'forbes', 'match'])\n",
    "\n",
    "print(gs_dbpedia_forbes.head())\n",
    "print(gs_dbpedia_sbti.head())\n",
    "print(gs_sbti_forbes.head())"
   ]
  },
  {
   "cell_type": "code",
   "execution_count": 10,
   "metadata": {},
   "outputs": [],
   "source": [
    "gs_dbpedia_forbes_train, gs_dbpedia_forbes_test = train_test_split(gs_dbpedia_forbes, test_size=0.3, random_state=53252)\n",
    "gs_dbpedia_sbti_train, gs_dbpedia_sbti_test = train_test_split(gs_dbpedia_sbti, test_size=0.3, random_state=53252)\n",
    "gs_sbti_forbes_train, gs_sbti_forbes_test = train_test_split(gs_sbti_forbes, test_size=0.3, random_state=53252)"
   ]
  },
  {
   "cell_type": "code",
   "execution_count": null,
   "metadata": {},
   "outputs": [],
   "source": [
    "gs_dbpedia_forbes_train.to_csv('goldstandard/dbpedia_forbes_goldstandard_train.csv', index=False)\n",
    "gs_dbpedia_forbes_test.to_csv('goldstandard/dbpedia_forbes_goldstandard_test.csv', index=False)\n",
    "\n",
    "gs_dbpedia_sbti_train.to_csv('goldstandard/dbpedia_sbti_goldstandard_train.csv', index=False)\n",
    "gs_dbpedia_sbti_test.to_csv('goldstandard/dbpedia_sbti_goldstandard_test.csv', index=False)\n",
    "\n",
    "gs_sbti_forbes_train.to_csv('goldstandard/sbti_forbes_goldstandard_train.csv', index=False)\n",
    "gs_sbti_forbes_test.to_csv('goldstandard/sbti_forbes_goldstandard_test.csv', index=False)"
   ]
  }
 ],
 "metadata": {
  "kernelspec": {
   "display_name": "WDI",
   "language": "python",
   "name": "python3"
  },
  "language_info": {
   "codemirror_mode": {
    "name": "ipython",
    "version": 3
   },
   "file_extension": ".py",
   "mimetype": "text/x-python",
   "name": "python",
   "nbconvert_exporter": "python",
   "pygments_lexer": "ipython3",
   "version": "3.10.13"
  }
 },
 "nbformat": 4,
 "nbformat_minor": 2
}
