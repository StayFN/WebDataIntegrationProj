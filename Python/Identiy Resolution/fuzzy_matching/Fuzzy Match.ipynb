{
 "cells": [
  {
   "cell_type": "markdown",
   "id": "4f959869",
   "metadata": {},
   "source": [
    "# Fuzzy Match two dataframes by company name"
   ]
  },
  {
   "cell_type": "markdown",
   "id": "8e166012",
   "metadata": {},
   "source": [
    "## Preprocessing"
   ]
  },
  {
   "cell_type": "code",
   "execution_count": 24,
   "id": "c9010ac1",
   "metadata": {},
   "outputs": [],
   "source": [
    "#pip install fuzzywuzzy"
   ]
  },
  {
   "cell_type": "code",
   "execution_count": 1,
   "id": "54c6c754",
   "metadata": {},
   "outputs": [
    {
     "name": "stderr",
     "output_type": "stream",
     "text": [
      "/home/maria/miniconda3/envs/llmSeminar/lib/python3.12/site-packages/fuzzywuzzy/fuzz.py:11: UserWarning: Using slow pure-python SequenceMatcher. Install python-Levenshtein to remove this warning\n",
      "  warnings.warn('Using slow pure-python SequenceMatcher. Install python-Levenshtein to remove this warning')\n"
     ]
    }
   ],
   "source": [
    "import pandas as pd\n",
    "import openpyxl\n",
    "\n",
    "from fuzzywuzzy import process\n",
    "from fuzzywuzzy import fuzz\n",
    "\n",
    "from tqdm import tqdm"
   ]
  },
  {
   "cell_type": "code",
   "execution_count": 2,
   "id": "470d81a9",
   "metadata": {},
   "outputs": [],
   "source": [
    "dbpedia = pd.read_csv(\"../Data/DBPedia_Companies_Preprocessed.csv\")\n",
    "sbti = pd.read_excel(\"../Data/companies-taking-action.xlsx\")\n",
    "forbes=pd.read_csv(\"../Data/Forbes_2000_top_company_CLNQ11.csv\")"
   ]
  },
  {
   "cell_type": "code",
   "execution_count": 3,
   "id": "aef31011",
   "metadata": {},
   "outputs": [],
   "source": [
    "#Create Unique IDs for forbes and sbti dataset\n",
    "sbti.index = [\"SBTI_\" + str(i) for i in range(1, len(sbti)+1)] # start at 1 like in the xml file\n",
    "sbti.index.name = \"UID\"\n",
    "sbti = sbti.reset_index()\n",
    "\n",
    "forbes.index = [\"Forbes_\" + str(i) for i in range(1, len(forbes)+1)] # start at 1 like in the xml file\n",
    "forbes.index.name = \"UID\"\n",
    "forbes = forbes.reset_index()"
   ]
  },
  {
   "cell_type": "code",
   "execution_count": 4,
   "id": "9ae92248",
   "metadata": {},
   "outputs": [],
   "source": [
    "# use same column name for company name across datasets\n",
    "\n",
    "dbpedia[\"name\"] = dbpedia[\"label\"]\n",
    "sbti[\"name\"] = sbti[\"Company Name\"]\n",
    "forbes[\"name\"] = forbes[\"Organization Name\"]\n"
   ]
  },
  {
   "cell_type": "markdown",
   "id": "109c1d56",
   "metadata": {},
   "source": [
    "## Fuzzy matching"
   ]
  },
  {
   "cell_type": "code",
   "execution_count": 113,
   "id": "02206246",
   "metadata": {},
   "outputs": [],
   "source": [
    "def fuzzymatch_dfs_on_name(df1, df2, min_similarity_score):\n",
    "\n",
    "    def get_df_name(df):\n",
    "        \"\"\"get df name as string\"\"\"\n",
    "        name =[x for x in globals() if globals()[x] is df][0]\n",
    "        return name\n",
    "\n",
    "    df1_name = get_df_name(df1) # extract df name to use as column name in resultin df\n",
    "    df2_name = get_df_name(df2)\n",
    "    match_name = df1_name + \"_\" + df2_name\n",
    "\n",
    "    fuzzy_match_results = []\n",
    "    match_id = 1\n",
    "\n",
    "    df1_names = df1[\"name\"].tolist() # list to loop over\n",
    "    df2_names = df2[\"name\"].tolist()\n",
    "\n",
    "    for name1 in tqdm(df1_names):\n",
    "        \n",
    "        match, score = process.extractOne(name1, df2_names, scorer=fuzz.token_sort_ratio)\n",
    "        \n",
    "        if score >= min_similarity_score:\n",
    "            match_info = {\n",
    "                \"Match ID\": match_name + \"_\" + str(match_id),\n",
    "                df1_name + \"_uid\": df1[df1['name'] == name1]['UID'].values[0], # include uids of both companies\n",
    "                df2_name + \"_uid\": df2[df2['name'] == match]['UID'].values[0],\n",
    "                df1_name + \"_company\": name1, # include names of both companies\n",
    "                df2_name + \"_company\": match,\n",
    "                \"Similarity Score\": score\n",
    "            }\n",
    "\n",
    "            fuzzy_match_results.append(match_info)\n",
    "            match_id += 1\n",
    "\n",
    "    fuzzy_match_df = pd.DataFrame(fuzzy_match_results)\n",
    "\n",
    "    return fuzzy_match_df"
   ]
  },
  {
   "cell_type": "markdown",
   "id": "d8308d40",
   "metadata": {},
   "source": [
    "run fuzzy matching with each dataset combination:"
   ]
  },
  {
   "cell_type": "code",
   "execution_count": 119,
   "id": "0aa2d2c7",
   "metadata": {},
   "outputs": [
    {
     "name": "stderr",
     "output_type": "stream",
     "text": [
      "  0%|          | 0/10720 [00:00<?, ?it/s]"
     ]
    },
    {
     "name": "stderr",
     "output_type": "stream",
     "text": [
      "100%|██████████| 10720/10720 [12:16<00:00, 14.56it/s]\n"
     ]
    }
   ],
   "source": [
    "# dbpedia & forbes\n",
    "\n",
    "fuzzy_match_dbpedia_forbes = fuzzymatch_dfs_on_name(dbpedia, forbes, 10)\n",
    "#print(fuzzy_match_dbpedia_forbes.head())\n",
    "\n",
    "#save\n",
    "fuzzy_match_dbpedia_forbes.to_excel(\"../Python/Identiy Resolution/dbp_forbes_fuzzy_match_results.xlsx\", index=False)\n"
   ]
  },
  {
   "cell_type": "code",
   "execution_count": 118,
   "id": "33a930ca",
   "metadata": {},
   "outputs": [
    {
     "name": "stderr",
     "output_type": "stream",
     "text": [
      "  0%|          | 0/10720 [00:00<?, ?it/s]"
     ]
    },
    {
     "name": "stderr",
     "output_type": "stream",
     "text": [
      "100%|██████████| 10720/10720 [41:49<00:00,  4.27it/s]\n"
     ]
    }
   ],
   "source": [
    "# dbpedia & sbti\n",
    "fuzzy_match_dbpedia_sbti = fuzzymatch_dfs_on_name(dbpedia, sbti, 10)\n",
    "\n",
    "#print(fuzzy_match_dbpedia_sbti.head())\n",
    "\n",
    "#save\n",
    "fuzzy_match_dbpedia_sbti.to_excel(\"../Python/Identiy Resolution/dbp_sbti_fuzzy_match_min10_results.xlsx\", index=False)"
   ]
  },
  {
   "cell_type": "code",
   "execution_count": 115,
   "id": "3d1e9a0f",
   "metadata": {},
   "outputs": [
    {
     "name": "stderr",
     "output_type": "stream",
     "text": [
      "100%|██████████| 6157/6157 [08:26<00:00, 12.15it/s]\n"
     ]
    }
   ],
   "source": [
    "# forbes & sbti\n",
    "fuzzy_match_forbes_sbti = fuzzymatch_dfs_on_name(sbti, forbes, 10)\n",
    "\n",
    "#print(fuzzy_match_forbes_sbti.head())\n",
    "\n",
    "#save\n",
    "fuzzy_match_forbes_sbti.to_excel(\"../Python/Identiy Resolution/forbes_sbti_fuzzy_match_min10_results.xlsx\", index=False)"
   ]
  }
 ],
 "metadata": {
  "kernelspec": {
   "display_name": "Python 3 (ipykernel)",
   "language": "python",
   "name": "python3"
  },
  "language_info": {
   "codemirror_mode": {
    "name": "ipython",
    "version": 3
   },
   "file_extension": ".py",
   "mimetype": "text/x-python",
   "name": "python",
   "nbconvert_exporter": "python",
   "pygments_lexer": "ipython3",
   "version": "3.12.0"
  }
 },
 "nbformat": 4,
 "nbformat_minor": 5
}
