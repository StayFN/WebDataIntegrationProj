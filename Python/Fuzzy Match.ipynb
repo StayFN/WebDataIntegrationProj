{
 "cells": [
  {
   "cell_type": "markdown",
   "id": "4f959869",
   "metadata": {},
   "source": [
    "# Fuzzy Match, Preprocessing"
   ]
  },
  {
   "cell_type": "code",
   "execution_count": 24,
   "id": "c9010ac1",
   "metadata": {},
   "outputs": [],
   "source": [
    "#pip install fuzzywuzzy"
   ]
  },
  {
   "cell_type": "code",
   "execution_count": 1,
   "id": "54c6c754",
   "metadata": {},
   "outputs": [
    {
     "name": "stderr",
     "output_type": "stream",
     "text": [
      "/home/maria/miniconda3/envs/llmSeminar/lib/python3.12/site-packages/fuzzywuzzy/fuzz.py:11: UserWarning: Using slow pure-python SequenceMatcher. Install python-Levenshtein to remove this warning\n",
      "  warnings.warn('Using slow pure-python SequenceMatcher. Install python-Levenshtein to remove this warning')\n"
     ]
    }
   ],
   "source": [
    "import pandas as pd\n",
    "import openpyxl\n",
    "\n",
    "from fuzzywuzzy import process\n",
    "from fuzzywuzzy import fuzz\n",
    "\n",
    "from tqdm import tqdm"
   ]
  },
  {
   "cell_type": "code",
   "execution_count": 2,
   "id": "470d81a9",
   "metadata": {},
   "outputs": [],
   "source": [
    "dbpedia = pd.read_csv(\"../Data/DBPedia_Companies_Preprocessed.csv\")\n",
    "sbti = pd.read_excel(\"../Data/companies-taking-action.xlsx\")\n",
    "forbes=pd.read_csv(\"../Data/Forbes_2000_top_company_CLNQ11.csv\")"
   ]
  },
  {
   "cell_type": "code",
   "execution_count": 3,
   "id": "aef31011",
   "metadata": {},
   "outputs": [],
   "source": [
    "#Create Unique IDs for forbes and sbti dataset\n",
    "sbti.index = [\"SBTI_\" + str(i) for i in range(1, len(sbti)+1)]\n",
    "sbti.index.name = \"UID\"\n",
    "sbti = sbti.reset_index()\n",
    "\n",
    "forbes.index = [\"Forbes_\" + str(i) for i in range(1, len(forbes)+1)]\n",
    "forbes.index.name = \"UID\"\n",
    "forbes = forbes.reset_index()"
   ]
  },
  {
   "cell_type": "code",
   "execution_count": 4,
   "id": "9ae92248",
   "metadata": {},
   "outputs": [],
   "source": [
    "# use same column name for company name\n",
    "\n",
    "dbpedia[\"name\"] = dbpedia[\"label\"]\n",
    "sbti[\"name\"] = sbti[\"Company Name\"]\n",
    "forbes[\"name\"] = forbes[\"Organization Name\"]\n"
   ]
  },
  {
   "cell_type": "markdown",
   "id": "109c1d56",
   "metadata": {},
   "source": [
    "## Fuzzy match dataframes by company name"
   ]
  },
  {
   "cell_type": "code",
   "execution_count": 110,
   "id": "02206246",
   "metadata": {},
   "outputs": [],
   "source": [
    "def fuzzymatch_dfs_on_name(df1, df2, min_similarity_score):\n",
    "\n",
    "    def get_df_name(df):\n",
    "        name =[x for x in globals() if globals()[x] is df][0]\n",
    "        return name\n",
    "\n",
    "    df1_name = get_df_name(df1)\n",
    "    df2_name = get_df_name(df2)\n",
    "    match_name = df1_name + \"_\" + df2_name\n",
    "\n",
    "    fuzzy_match_results = []\n",
    "    match_id = 1\n",
    "\n",
    "    df1_names = df1[\"name\"].tolist()\n",
    "    df2_names = df2[\"name\"].tolist()\n",
    "\n",
    "    for name1 in tqdm(df1_names):\n",
    "        \n",
    "        match, score = process.extractOne(name1, df2_names, scorer=fuzz.token_sort_ratio)\n",
    "        \n",
    "        if score >= min_similarity_score:\n",
    "            match_info = {\n",
    "                \"Match ID\": match_name + \"_\" + str(match_id),\n",
    "                df1_name + \"_uid\": df1[df1['name'] == name1]['UID'].values[0],\n",
    "                df2_name + \"_uid\": df2[df2['name'] == match]['UID'].values[0],\n",
    "                df1_name + \"_company\": name1,\n",
    "                df2_name + \"_company\": match,\n",
    "                \"Similarity Score\": score\n",
    "            }\n",
    "\n",
    "        \n",
    "\n",
    "            fuzzy_match_results.append(match_info)\n",
    "            match_id += 1\n",
    "\n",
    "    fuzzy_match_df = pd.DataFrame(fuzzy_match_results)\n",
    "\n",
    "    return fuzzy_match_df\n",
    "\n"
   ]
  },
  {
   "cell_type": "markdown",
   "id": "d8308d40",
   "metadata": {},
   "source": [
    "run fuzzy matching with each dataset combination:"
   ]
  },
  {
   "cell_type": "code",
   "execution_count": 113,
   "id": "0aa2d2c7",
   "metadata": {},
   "outputs": [
    {
     "name": "stdout",
     "output_type": "stream",
     "text": [
      "['Berkshire Hathaway', 'ICBC', 'Saudi Arabian Oil Company (Saudi Aramco)', 'JPMorgan Chase', 'China Construction Bank']\n"
     ]
    },
    {
     "name": "stderr",
     "output_type": "stream",
     "text": [
      "100%|██████████| 5/5 [00:00<00:00, 731.22it/s]"
     ]
    },
    {
     "name": "stdout",
     "output_type": "stream",
     "text": [
      "BioNTech\n",
      "ICBC\n",
      "Royal Ceramics\n",
      "JPMorgan Chase\n",
      "Vodafone Kabel Deutschland\n",
      "Saudi Arabian Oil Company (Saudi Aramco)\n",
      "Union Pacific Corporation\n",
      "Saudi Arabian Oil Company (Saudi Aramco)\n",
      "Vallibel One\n",
      "ICBC\n",
      "             Match ID                             dbpedia2_uid  \\\n",
      "0  dbpedia2_forbes2_1  0    DBPedia_0\n",
      "Name: UID, dtype: object   \n",
      "1  dbpedia2_forbes2_2  1    DBPedia_1\n",
      "Name: UID, dtype: object   \n",
      "2  dbpedia2_forbes2_3  2    DBPedia_2\n",
      "Name: UID, dtype: object   \n",
      "3  dbpedia2_forbes2_4  3    DBPedia_3\n",
      "Name: UID, dtype: object   \n",
      "4  dbpedia2_forbes2_5  4    DBPedia_4\n",
      "Name: UID, dtype: object   \n",
      "\n",
      "                      forbes2_uid            dbpedia2_company  \\\n",
      "0  1    2\n",
      "Name: UID, dtype: int64                    BioNTech   \n",
      "1  3    4\n",
      "Name: UID, dtype: int64              Royal Ceramics   \n",
      "2  2    3\n",
      "Name: UID, dtype: int64  Vodafone Kabel Deutschland   \n",
      "3  2    3\n",
      "Name: UID, dtype: int64   Union Pacific Corporation   \n",
      "4  1    2\n",
      "Name: UID, dtype: int64                Vallibel One   \n",
      "\n",
      "                            forbes2_company  Similarity Score  \n",
      "0                                      ICBC                33  \n",
      "1                            JPMorgan Chase                29  \n",
      "2  Saudi Arabian Oil Company (Saudi Aramco)                25  \n",
      "3  Saudi Arabian Oil Company (Saudi Aramco)                32  \n",
      "4                                      ICBC                25  \n"
     ]
    },
    {
     "name": "stderr",
     "output_type": "stream",
     "text": [
      "\n"
     ]
    }
   ],
   "source": [
    "# dbpedia & forbes\n",
    "\n",
    "fuzzy_match_dbpedia_forbes = fuzzymatch_dfs_on_name(dbpedia2, forbes2, 10)\n",
    "print(fuzzy_match_dbpedia_forbes.head())\n",
    "\n",
    "#save\n",
    "fuzzy_match_dbpedia_forbes.to_excel(\"../Python/Identiy Resolution/dbp_forbes_fuzzy_match_results.xlsx\", index=False)\n"
   ]
  },
  {
   "cell_type": "code",
   "execution_count": 60,
   "id": "33a930ca",
   "metadata": {},
   "outputs": [
    {
     "data": {
      "text/html": [
       "<div>\n",
       "<style scoped>\n",
       "    .dataframe tbody tr th:only-of-type {\n",
       "        vertical-align: middle;\n",
       "    }\n",
       "\n",
       "    .dataframe tbody tr th {\n",
       "        vertical-align: top;\n",
       "    }\n",
       "\n",
       "    .dataframe thead th {\n",
       "        text-align: right;\n",
       "    }\n",
       "</style>\n",
       "<table border=\"1\" class=\"dataframe\">\n",
       "  <thead>\n",
       "    <tr style=\"text-align: right;\">\n",
       "      <th></th>\n",
       "      <th>UID</th>\n",
       "      <th>company</th>\n",
       "      <th>label</th>\n",
       "      <th>industries</th>\n",
       "      <th>keyPeople</th>\n",
       "      <th>founders</th>\n",
       "      <th>hqLocationCountry</th>\n",
       "      <th>revenue</th>\n",
       "      <th>assets</th>\n",
       "      <th>netIncome</th>\n",
       "      <th>foundingYear</th>\n",
       "      <th>type</th>\n",
       "    </tr>\n",
       "  </thead>\n",
       "  <tbody>\n",
       "    <tr>\n",
       "      <th>0</th>\n",
       "      <td>DBPedia_0</td>\n",
       "      <td>http://dbpedia.org/resource/BioNTech</td>\n",
       "      <td>BioNTech</td>\n",
       "      <td>Biotechnology</td>\n",
       "      <td>Ryan Richardson, Sean Marett, Sierk Poetting, ...</td>\n",
       "      <td>Helmut Jeggle, Michael Motschmann, Thomas Strü...</td>\n",
       "      <td>Germany</td>\n",
       "      <td>17761766400</td>\n",
       "      <td>1.437857e+10</td>\n",
       "      <td>3.448038e+08</td>\n",
       "      <td>2008.0</td>\n",
       "      <td>Societas Europaea</td>\n",
       "    </tr>\n",
       "    <tr>\n",
       "      <th>1</th>\n",
       "      <td>DBPedia_1</td>\n",
       "      <td>http://dbpedia.org/resource/Royal_Ceramics</td>\n",
       "      <td>Royal Ceramics</td>\n",
       "      <td>Capital good</td>\n",
       "      <td>A. M. Weerasinghe, Aravinda Perera, H. Amarase...</td>\n",
       "      <td>NaN</td>\n",
       "      <td>Sri Lanka</td>\n",
       "      <td>57545</td>\n",
       "      <td>8.624100e+04</td>\n",
       "      <td>1.369000e+04</td>\n",
       "      <td>1990.0</td>\n",
       "      <td>Public company</td>\n",
       "    </tr>\n",
       "    <tr>\n",
       "      <th>2</th>\n",
       "      <td>DBPedia_2</td>\n",
       "      <td>http://dbpedia.org/resource/Vodafone_Kabel_Deu...</td>\n",
       "      <td>Vodafone Kabel Deutschland</td>\n",
       "      <td>Telecommunication</td>\n",
       "      <td>Manuel Cubero</td>\n",
       "      <td>NaN</td>\n",
       "      <td>Germany</td>\n",
       "      <td>1719790080</td>\n",
       "      <td>2.685880e+09</td>\n",
       "      <td>2.321247e+08</td>\n",
       "      <td>1980.0</td>\n",
       "      <td>Subsidiary</td>\n",
       "    </tr>\n",
       "    <tr>\n",
       "      <th>3</th>\n",
       "      <td>DBPedia_3</td>\n",
       "      <td>http://dbpedia.org/resource/Union_Pacific_Corp...</td>\n",
       "      <td>Union Pacific Corporation</td>\n",
       "      <td>NaN</td>\n",
       "      <td>Lance M. Fritz</td>\n",
       "      <td>NaN</td>\n",
       "      <td>United States</td>\n",
       "      <td>21800000000</td>\n",
       "      <td>6.350000e+10</td>\n",
       "      <td>6.500000e+09</td>\n",
       "      <td>1969.0</td>\n",
       "      <td>Public company</td>\n",
       "    </tr>\n",
       "    <tr>\n",
       "      <th>4</th>\n",
       "      <td>DBPedia_4</td>\n",
       "      <td>http://dbpedia.org/resource/Vallibel_One</td>\n",
       "      <td>Vallibel One</td>\n",
       "      <td>Conglomerate (company)</td>\n",
       "      <td>Dinusha Bhaskaran, H. Amarasekara</td>\n",
       "      <td>Dhammika Perera</td>\n",
       "      <td>Sri Lanka</td>\n",
       "      <td>96859</td>\n",
       "      <td>2.852100e+05</td>\n",
       "      <td>2.058000e+04</td>\n",
       "      <td>2010.0</td>\n",
       "      <td>Public company</td>\n",
       "    </tr>\n",
       "  </tbody>\n",
       "</table>\n",
       "</div>"
      ],
      "text/plain": [
       "         UID                                            company  \\\n",
       "0  DBPedia_0               http://dbpedia.org/resource/BioNTech   \n",
       "1  DBPedia_1         http://dbpedia.org/resource/Royal_Ceramics   \n",
       "2  DBPedia_2  http://dbpedia.org/resource/Vodafone_Kabel_Deu...   \n",
       "3  DBPedia_3  http://dbpedia.org/resource/Union_Pacific_Corp...   \n",
       "4  DBPedia_4           http://dbpedia.org/resource/Vallibel_One   \n",
       "\n",
       "                        label              industries  \\\n",
       "0                    BioNTech           Biotechnology   \n",
       "1              Royal Ceramics            Capital good   \n",
       "2  Vodafone Kabel Deutschland       Telecommunication   \n",
       "3   Union Pacific Corporation                     NaN   \n",
       "4                Vallibel One  Conglomerate (company)   \n",
       "\n",
       "                                           keyPeople  \\\n",
       "0  Ryan Richardson, Sean Marett, Sierk Poetting, ...   \n",
       "1  A. M. Weerasinghe, Aravinda Perera, H. Amarase...   \n",
       "2                                      Manuel Cubero   \n",
       "3                                     Lance M. Fritz   \n",
       "4                  Dinusha Bhaskaran, H. Amarasekara   \n",
       "\n",
       "                                            founders hqLocationCountry  \\\n",
       "0  Helmut Jeggle, Michael Motschmann, Thomas Strü...           Germany   \n",
       "1                                                NaN         Sri Lanka   \n",
       "2                                                NaN           Germany   \n",
       "3                                                NaN     United States   \n",
       "4                                    Dhammika Perera         Sri Lanka   \n",
       "\n",
       "       revenue        assets     netIncome  foundingYear               type  \n",
       "0  17761766400  1.437857e+10  3.448038e+08        2008.0  Societas Europaea  \n",
       "1        57545  8.624100e+04  1.369000e+04        1990.0     Public company  \n",
       "2   1719790080  2.685880e+09  2.321247e+08        1980.0         Subsidiary  \n",
       "3  21800000000  6.350000e+10  6.500000e+09        1969.0     Public company  \n",
       "4        96859  2.852100e+05  2.058000e+04        2010.0     Public company  "
      ]
     },
     "execution_count": 60,
     "metadata": {},
     "output_type": "execute_result"
    }
   ],
   "source": [
    "# dbpedia & sbti\n",
    "fuzzy_match_dbpedia_sbti = fuzzymatch_dfs_on_name(dbpedia, sbti, 10)\n",
    "\n",
    "print(fuzzy_match_dbpedia_sbti.head())\n",
    "\n",
    "#save\n",
    "#fuzzy_match_dbpedia_sbti.to_excel(\"../Python/Identiy Resolution/dbp_sbti_fuzzy_match_results.xlsx\", index=False)"
   ]
  },
  {
   "cell_type": "code",
   "execution_count": 7,
   "id": "3d1e9a0f",
   "metadata": {},
   "outputs": [
    {
     "name": "stderr",
     "output_type": "stream",
     "text": [
      "100%|██████████| 1999/1999 [07:47<00:00,  4.28it/s]"
     ]
    },
    {
     "name": "stdout",
     "output_type": "stream",
     "text": [
      "        Match ID                              forbes_uid  \\\n",
      "0  forbes_sbti_1  0    Forbes_1\n",
      "Name: UID, dtype: object   \n",
      "1  forbes_sbti_2  1    Forbes_2\n",
      "Name: UID, dtype: object   \n",
      "2  forbes_sbti_3  2    Forbes_3\n",
      "Name: UID, dtype: object   \n",
      "3  forbes_sbti_4  3    Forbes_4\n",
      "Name: UID, dtype: object   \n",
      "4  forbes_sbti_5  4    Forbes_5\n",
      "Name: UID, dtype: object   \n",
      "\n",
      "                                     sbti_uid  \\\n",
      "0  5149    SBTI_5150\n",
      "Name: UID, dtype: object   \n",
      "1  1264    SBTI_1265\n",
      "Name: UID, dtype: object   \n",
      "2  4597    SBTI_4598\n",
      "Name: UID, dtype: object   \n",
      "3  2879    SBTI_2880\n",
      "Name: UID, dtype: object   \n",
      "4    778    SBTI_779\n",
      "Name: UID, dtype: object   \n",
      "\n",
      "                             forbes_company           sbti_company  \\\n",
      "0                        Berkshire Hathaway          Sunway Berhad   \n",
      "1                                      ICBC                    CRB   \n",
      "2  Saudi Arabian Oil Company (Saudi Aramco)    S-BIC COMPANY, LTD.   \n",
      "3                            JPMorgan Chase            Jordanes AS   \n",
      "4                   China Construction Bank  BOUYGUES CONSTRUCTION   \n",
      "\n",
      "   Similarity Score  \n",
      "0                52  \n",
      "1                57  \n",
      "2                55  \n",
      "3                64  \n",
      "4                64  \n"
     ]
    },
    {
     "name": "stderr",
     "output_type": "stream",
     "text": [
      "\n"
     ]
    }
   ],
   "source": [
    "# forbes & sbti\n",
    "fuzzy_match_forbes_sbti = fuzzymatch_dfs_on_name(forbes, sbti, 10)\n",
    "\n",
    "#print(fuzzy_match_forbes_sbti.head())\n",
    "\n",
    "#save\n",
    "fuzzy_match_forbes_sbti.to_excel(\"../Python/Identiy Resolution/forbes_sbti_fuzzy_match_min10_results.xlsx\", index=False)"
   ]
  },
  {
   "cell_type": "code",
   "execution_count": 111,
   "metadata": {},
   "outputs": [
    {
     "name": "stderr",
     "output_type": "stream",
     "text": [
      "100%|██████████| 10/10 [00:00<00:00, 501.16it/s]\n"
     ]
    }
   ],
   "source": [
    "# test\n",
    "sbti_test = sbti.head(10)\n",
    "forbes_test = forbes.head(10)\n",
    "fuzzy_match_forbes_sbti = fuzzymatch_dfs_on_name(forbes_test, sbti_test, 10)\n",
    "\n",
    "#print(fuzzy_match_forbes_sbti.head())\n",
    "\n",
    "#save\n",
    "#fuzzy_match_forbes_sbti.to_excel(\"../Python/Identiy Resolution/forbes_sbti_fuzzy_match_min10_results.xlsx\", index=False)"
   ]
  },
  {
   "cell_type": "code",
   "execution_count": 112,
   "id": "fc976afb",
   "metadata": {},
   "outputs": [
    {
     "data": {
      "text/html": [
       "<div>\n",
       "<style scoped>\n",
       "    .dataframe tbody tr th:only-of-type {\n",
       "        vertical-align: middle;\n",
       "    }\n",
       "\n",
       "    .dataframe tbody tr th {\n",
       "        vertical-align: top;\n",
       "    }\n",
       "\n",
       "    .dataframe thead th {\n",
       "        text-align: right;\n",
       "    }\n",
       "</style>\n",
       "<table border=\"1\" class=\"dataframe\">\n",
       "  <thead>\n",
       "    <tr style=\"text-align: right;\">\n",
       "      <th></th>\n",
       "      <th>Match ID</th>\n",
       "      <th>forbes_test_uid</th>\n",
       "      <th>sbti_test_uid</th>\n",
       "      <th>forbes_test_company</th>\n",
       "      <th>sbti_test_company</th>\n",
       "      <th>Similarity Score</th>\n",
       "    </tr>\n",
       "  </thead>\n",
       "  <tbody>\n",
       "    <tr>\n",
       "      <th>0</th>\n",
       "      <td>forbes_test_sbti_test_1</td>\n",
       "      <td>Forbes_1</td>\n",
       "      <td>SBTI_7</td>\n",
       "      <td>Berkshire Hathaway</td>\n",
       "      <td>3B-Fibreglass</td>\n",
       "      <td>32</td>\n",
       "    </tr>\n",
       "    <tr>\n",
       "      <th>1</th>\n",
       "      <td>forbes_test_sbti_test_2</td>\n",
       "      <td>Forbes_2</td>\n",
       "      <td>SBTI_8</td>\n",
       "      <td>ICBC</td>\n",
       "      <td>3i Group plc</td>\n",
       "      <td>25</td>\n",
       "    </tr>\n",
       "    <tr>\n",
       "      <th>2</th>\n",
       "      <td>forbes_test_sbti_test_3</td>\n",
       "      <td>Forbes_3</td>\n",
       "      <td>SBTI_1</td>\n",
       "      <td>Saudi Arabian Oil Company (Saudi Aramco)</td>\n",
       "      <td>(ACIP) Alexandria Company for Industrial Packages</td>\n",
       "      <td>42</td>\n",
       "    </tr>\n",
       "    <tr>\n",
       "      <th>3</th>\n",
       "      <td>forbes_test_sbti_test_4</td>\n",
       "      <td>Forbes_4</td>\n",
       "      <td>SBTI_1</td>\n",
       "      <td>JPMorgan Chase</td>\n",
       "      <td>(ACIP) Alexandria Company for Industrial Packages</td>\n",
       "      <td>26</td>\n",
       "    </tr>\n",
       "    <tr>\n",
       "      <th>4</th>\n",
       "      <td>forbes_test_sbti_test_5</td>\n",
       "      <td>Forbes_5</td>\n",
       "      <td>SBTI_9</td>\n",
       "      <td>China Construction Bank</td>\n",
       "      <td>3P Innovation Ltd</td>\n",
       "      <td>40</td>\n",
       "    </tr>\n",
       "  </tbody>\n",
       "</table>\n",
       "</div>"
      ],
      "text/plain": [
       "                  Match ID forbes_test_uid sbti_test_uid  \\\n",
       "0  forbes_test_sbti_test_1        Forbes_1        SBTI_7   \n",
       "1  forbes_test_sbti_test_2        Forbes_2        SBTI_8   \n",
       "2  forbes_test_sbti_test_3        Forbes_3        SBTI_1   \n",
       "3  forbes_test_sbti_test_4        Forbes_4        SBTI_1   \n",
       "4  forbes_test_sbti_test_5        Forbes_5        SBTI_9   \n",
       "\n",
       "                        forbes_test_company  \\\n",
       "0                        Berkshire Hathaway   \n",
       "1                                      ICBC   \n",
       "2  Saudi Arabian Oil Company (Saudi Aramco)   \n",
       "3                            JPMorgan Chase   \n",
       "4                   China Construction Bank   \n",
       "\n",
       "                                   sbti_test_company  Similarity Score  \n",
       "0                                      3B-Fibreglass                32  \n",
       "1                                       3i Group plc                25  \n",
       "2  (ACIP) Alexandria Company for Industrial Packages                42  \n",
       "3  (ACIP) Alexandria Company for Industrial Packages                26  \n",
       "4                                  3P Innovation Ltd                40  "
      ]
     },
     "execution_count": 112,
     "metadata": {},
     "output_type": "execute_result"
    }
   ],
   "source": [
    "# extract uids from obejct!!\n",
    "fuzzy_match_forbes_sbti.head()"
   ]
  },
  {
   "cell_type": "code",
   "execution_count": 16,
   "id": "0899b3d0",
   "metadata": {},
   "outputs": [],
   "source": [
    "fuzzy_match_forbes_sbti[\"forbes_uid2\"] = fuzzy_match_forbes_sbti[\"forbes_uid\"]"
   ]
  },
  {
   "cell_type": "code",
   "execution_count": 81,
   "id": "c76b3922",
   "metadata": {},
   "outputs": [
    {
     "ename": "KeyError",
     "evalue": "0",
     "output_type": "error",
     "traceback": [
      "\u001b[0;31m---------------------------------------------------------------------------\u001b[0m",
      "\u001b[0;31mKeyError\u001b[0m                                  Traceback (most recent call last)",
      "File \u001b[0;32m~/miniconda3/envs/llmSeminar/lib/python3.12/site-packages/pandas/core/indexes/base.py:3790\u001b[0m, in \u001b[0;36mIndex.get_loc\u001b[0;34m(self, key)\u001b[0m\n\u001b[1;32m   3789\u001b[0m \u001b[39mtry\u001b[39;00m:\n\u001b[0;32m-> 3790\u001b[0m     \u001b[39mreturn\u001b[39;00m \u001b[39mself\u001b[39;49m\u001b[39m.\u001b[39;49m_engine\u001b[39m.\u001b[39;49mget_loc(casted_key)\n\u001b[1;32m   3791\u001b[0m \u001b[39mexcept\u001b[39;00m \u001b[39mKeyError\u001b[39;00m \u001b[39mas\u001b[39;00m err:\n",
      "File \u001b[0;32mindex.pyx:152\u001b[0m, in \u001b[0;36mpandas._libs.index.IndexEngine.get_loc\u001b[0;34m()\u001b[0m\n",
      "File \u001b[0;32mindex.pyx:181\u001b[0m, in \u001b[0;36mpandas._libs.index.IndexEngine.get_loc\u001b[0;34m()\u001b[0m\n",
      "File \u001b[0;32mpandas/_libs/hashtable_class_helper.pxi:2606\u001b[0m, in \u001b[0;36mpandas._libs.hashtable.Int64HashTable.get_item\u001b[0;34m()\u001b[0m\n",
      "File \u001b[0;32mpandas/_libs/hashtable_class_helper.pxi:2630\u001b[0m, in \u001b[0;36mpandas._libs.hashtable.Int64HashTable.get_item\u001b[0;34m()\u001b[0m\n",
      "\u001b[0;31mKeyError\u001b[0m: 0",
      "\nThe above exception was the direct cause of the following exception:\n",
      "\u001b[0;31mKeyError\u001b[0m                                  Traceback (most recent call last)",
      "\u001b[1;32m/home/maria/STUDIUM/Master/5.Semester/web data integration/Project/WebDataIntegrationProj/Python/Fuzzy Match.ipynb Cell 15\u001b[0m line \u001b[0;36m1\n\u001b[1;32m      <a href='vscode-notebook-cell:/home/maria/STUDIUM/Master/5.Semester/web%20data%20integration/Project/WebDataIntegrationProj/Python/Fuzzy%20Match.ipynb#X16sZmlsZQ%3D%3D?line=7'>8</a>\u001b[0m     \u001b[39mreturn\u001b[39;00m value\n\u001b[1;32m     <a href='vscode-notebook-cell:/home/maria/STUDIUM/Master/5.Semester/web%20data%20integration/Project/WebDataIntegrationProj/Python/Fuzzy%20Match.ipynb#X16sZmlsZQ%3D%3D?line=9'>10</a>\u001b[0m \u001b[39m#fuzzy_match_forbes_sbti['forbes_uid'] = fuzzy_match_forbes_sbti.apply(lambda x: extract_value(x, colname= \"forbes_uid\"), axis=1)\u001b[39;00m\n\u001b[0;32m---> <a href='vscode-notebook-cell:/home/maria/STUDIUM/Master/5.Semester/web%20data%20integration/Project/WebDataIntegrationProj/Python/Fuzzy%20Match.ipynb#X16sZmlsZQ%3D%3D?line=10'>11</a>\u001b[0m fuzzy_match_forbes_sbti[\u001b[39m'\u001b[39m\u001b[39msbti_uid2\u001b[39m\u001b[39m'\u001b[39m] \u001b[39m=\u001b[39m fuzzy_match_forbes_sbti\u001b[39m.\u001b[39;49mapply(\u001b[39mlambda\u001b[39;49;00m x: extract_value(x, colname\u001b[39m=\u001b[39;49m \u001b[39m\"\u001b[39;49m\u001b[39msbti_uid\u001b[39;49m\u001b[39m\"\u001b[39;49m), axis\u001b[39m=\u001b[39;49m\u001b[39m1\u001b[39;49m)\n",
      "File \u001b[0;32m~/miniconda3/envs/llmSeminar/lib/python3.12/site-packages/pandas/core/frame.py:10037\u001b[0m, in \u001b[0;36mDataFrame.apply\u001b[0;34m(self, func, axis, raw, result_type, args, by_row, **kwargs)\u001b[0m\n\u001b[1;32m  10025\u001b[0m \u001b[39mfrom\u001b[39;00m \u001b[39mpandas\u001b[39;00m\u001b[39m.\u001b[39;00m\u001b[39mcore\u001b[39;00m\u001b[39m.\u001b[39;00m\u001b[39mapply\u001b[39;00m \u001b[39mimport\u001b[39;00m frame_apply\n\u001b[1;32m  10027\u001b[0m op \u001b[39m=\u001b[39m frame_apply(\n\u001b[1;32m  10028\u001b[0m     \u001b[39mself\u001b[39m,\n\u001b[1;32m  10029\u001b[0m     func\u001b[39m=\u001b[39mfunc,\n\u001b[0;32m   (...)\u001b[0m\n\u001b[1;32m  10035\u001b[0m     kwargs\u001b[39m=\u001b[39mkwargs,\n\u001b[1;32m  10036\u001b[0m )\n\u001b[0;32m> 10037\u001b[0m \u001b[39mreturn\u001b[39;00m op\u001b[39m.\u001b[39;49mapply()\u001b[39m.\u001b[39m__finalize__(\u001b[39mself\u001b[39m, method\u001b[39m=\u001b[39m\u001b[39m\"\u001b[39m\u001b[39mapply\u001b[39m\u001b[39m\"\u001b[39m)\n",
      "File \u001b[0;32m~/miniconda3/envs/llmSeminar/lib/python3.12/site-packages/pandas/core/apply.py:837\u001b[0m, in \u001b[0;36mFrameApply.apply\u001b[0;34m(self)\u001b[0m\n\u001b[1;32m    834\u001b[0m \u001b[39melif\u001b[39;00m \u001b[39mself\u001b[39m\u001b[39m.\u001b[39mraw:\n\u001b[1;32m    835\u001b[0m     \u001b[39mreturn\u001b[39;00m \u001b[39mself\u001b[39m\u001b[39m.\u001b[39mapply_raw()\n\u001b[0;32m--> 837\u001b[0m \u001b[39mreturn\u001b[39;00m \u001b[39mself\u001b[39;49m\u001b[39m.\u001b[39;49mapply_standard()\n",
      "File \u001b[0;32m~/miniconda3/envs/llmSeminar/lib/python3.12/site-packages/pandas/core/apply.py:963\u001b[0m, in \u001b[0;36mFrameApply.apply_standard\u001b[0;34m(self)\u001b[0m\n\u001b[1;32m    962\u001b[0m \u001b[39mdef\u001b[39;00m \u001b[39mapply_standard\u001b[39m(\u001b[39mself\u001b[39m):\n\u001b[0;32m--> 963\u001b[0m     results, res_index \u001b[39m=\u001b[39m \u001b[39mself\u001b[39;49m\u001b[39m.\u001b[39;49mapply_series_generator()\n\u001b[1;32m    965\u001b[0m     \u001b[39m# wrap results\u001b[39;00m\n\u001b[1;32m    966\u001b[0m     \u001b[39mreturn\u001b[39;00m \u001b[39mself\u001b[39m\u001b[39m.\u001b[39mwrap_results(results, res_index)\n",
      "File \u001b[0;32m~/miniconda3/envs/llmSeminar/lib/python3.12/site-packages/pandas/core/apply.py:979\u001b[0m, in \u001b[0;36mFrameApply.apply_series_generator\u001b[0;34m(self)\u001b[0m\n\u001b[1;32m    976\u001b[0m \u001b[39mwith\u001b[39;00m option_context(\u001b[39m\"\u001b[39m\u001b[39mmode.chained_assignment\u001b[39m\u001b[39m\"\u001b[39m, \u001b[39mNone\u001b[39;00m):\n\u001b[1;32m    977\u001b[0m     \u001b[39mfor\u001b[39;00m i, v \u001b[39min\u001b[39;00m \u001b[39menumerate\u001b[39m(series_gen):\n\u001b[1;32m    978\u001b[0m         \u001b[39m# ignore SettingWithCopy here in case the user mutates\u001b[39;00m\n\u001b[0;32m--> 979\u001b[0m         results[i] \u001b[39m=\u001b[39m \u001b[39mself\u001b[39;49m\u001b[39m.\u001b[39;49mfunc(v, \u001b[39m*\u001b[39;49m\u001b[39mself\u001b[39;49m\u001b[39m.\u001b[39;49margs, \u001b[39m*\u001b[39;49m\u001b[39m*\u001b[39;49m\u001b[39mself\u001b[39;49m\u001b[39m.\u001b[39;49mkwargs)\n\u001b[1;32m    980\u001b[0m         \u001b[39mif\u001b[39;00m \u001b[39misinstance\u001b[39m(results[i], ABCSeries):\n\u001b[1;32m    981\u001b[0m             \u001b[39m# If we have a view on v, we need to make a copy because\u001b[39;00m\n\u001b[1;32m    982\u001b[0m             \u001b[39m#  series_generator will swap out the underlying data\u001b[39;00m\n\u001b[1;32m    983\u001b[0m             results[i] \u001b[39m=\u001b[39m results[i]\u001b[39m.\u001b[39mcopy(deep\u001b[39m=\u001b[39m\u001b[39mFalse\u001b[39;00m)\n",
      "\u001b[1;32m/home/maria/STUDIUM/Master/5.Semester/web data integration/Project/WebDataIntegrationProj/Python/Fuzzy Match.ipynb Cell 15\u001b[0m line \u001b[0;36m1\n\u001b[1;32m      <a href='vscode-notebook-cell:/home/maria/STUDIUM/Master/5.Semester/web%20data%20integration/Project/WebDataIntegrationProj/Python/Fuzzy%20Match.ipynb#X16sZmlsZQ%3D%3D?line=7'>8</a>\u001b[0m     \u001b[39mreturn\u001b[39;00m value\n\u001b[1;32m     <a href='vscode-notebook-cell:/home/maria/STUDIUM/Master/5.Semester/web%20data%20integration/Project/WebDataIntegrationProj/Python/Fuzzy%20Match.ipynb#X16sZmlsZQ%3D%3D?line=9'>10</a>\u001b[0m \u001b[39m#fuzzy_match_forbes_sbti['forbes_uid'] = fuzzy_match_forbes_sbti.apply(lambda x: extract_value(x, colname= \"forbes_uid\"), axis=1)\u001b[39;00m\n\u001b[0;32m---> <a href='vscode-notebook-cell:/home/maria/STUDIUM/Master/5.Semester/web%20data%20integration/Project/WebDataIntegrationProj/Python/Fuzzy%20Match.ipynb#X16sZmlsZQ%3D%3D?line=10'>11</a>\u001b[0m fuzzy_match_forbes_sbti[\u001b[39m'\u001b[39m\u001b[39msbti_uid2\u001b[39m\u001b[39m'\u001b[39m] \u001b[39m=\u001b[39m fuzzy_match_forbes_sbti\u001b[39m.\u001b[39mapply(\u001b[39mlambda\u001b[39;00m x: extract_value(x, colname\u001b[39m=\u001b[39;49m \u001b[39m\"\u001b[39;49m\u001b[39msbti_uid\u001b[39;49m\u001b[39m\"\u001b[39;49m), axis\u001b[39m=\u001b[39m\u001b[39m1\u001b[39m)\n",
      "\u001b[1;32m/home/maria/STUDIUM/Master/5.Semester/web data integration/Project/WebDataIntegrationProj/Python/Fuzzy Match.ipynb Cell 15\u001b[0m line \u001b[0;36m7\n\u001b[1;32m      <a href='vscode-notebook-cell:/home/maria/STUDIUM/Master/5.Semester/web%20data%20integration/Project/WebDataIntegrationProj/Python/Fuzzy%20Match.ipynb#X16sZmlsZQ%3D%3D?line=4'>5</a>\u001b[0m index_to_extract \u001b[39m=\u001b[39m row\u001b[39m.\u001b[39mname  \u001b[39m# Row index as the index to extract\u001b[39;00m\n\u001b[1;32m      <a href='vscode-notebook-cell:/home/maria/STUDIUM/Master/5.Semester/web%20data%20integration/Project/WebDataIntegrationProj/Python/Fuzzy%20Match.ipynb#X16sZmlsZQ%3D%3D?line=5'>6</a>\u001b[0m inner_list \u001b[39m=\u001b[39m row[colname]\n\u001b[0;32m----> <a href='vscode-notebook-cell:/home/maria/STUDIUM/Master/5.Semester/web%20data%20integration/Project/WebDataIntegrationProj/Python/Fuzzy%20Match.ipynb#X16sZmlsZQ%3D%3D?line=6'>7</a>\u001b[0m value \u001b[39m=\u001b[39m inner_list[index_to_extract]\n\u001b[1;32m      <a href='vscode-notebook-cell:/home/maria/STUDIUM/Master/5.Semester/web%20data%20integration/Project/WebDataIntegrationProj/Python/Fuzzy%20Match.ipynb#X16sZmlsZQ%3D%3D?line=7'>8</a>\u001b[0m \u001b[39mreturn\u001b[39;00m value\n",
      "File \u001b[0;32m~/miniconda3/envs/llmSeminar/lib/python3.12/site-packages/pandas/core/series.py:1040\u001b[0m, in \u001b[0;36mSeries.__getitem__\u001b[0;34m(self, key)\u001b[0m\n\u001b[1;32m   1037\u001b[0m     \u001b[39mreturn\u001b[39;00m \u001b[39mself\u001b[39m\u001b[39m.\u001b[39m_values[key]\n\u001b[1;32m   1039\u001b[0m \u001b[39melif\u001b[39;00m key_is_scalar:\n\u001b[0;32m-> 1040\u001b[0m     \u001b[39mreturn\u001b[39;00m \u001b[39mself\u001b[39;49m\u001b[39m.\u001b[39;49m_get_value(key)\n\u001b[1;32m   1042\u001b[0m \u001b[39m# Convert generator to list before going through hashable part\u001b[39;00m\n\u001b[1;32m   1043\u001b[0m \u001b[39m# (We will iterate through the generator there to check for slices)\u001b[39;00m\n\u001b[1;32m   1044\u001b[0m \u001b[39mif\u001b[39;00m is_iterator(key):\n",
      "File \u001b[0;32m~/miniconda3/envs/llmSeminar/lib/python3.12/site-packages/pandas/core/series.py:1156\u001b[0m, in \u001b[0;36mSeries._get_value\u001b[0;34m(self, label, takeable)\u001b[0m\n\u001b[1;32m   1153\u001b[0m     \u001b[39mreturn\u001b[39;00m \u001b[39mself\u001b[39m\u001b[39m.\u001b[39m_values[label]\n\u001b[1;32m   1155\u001b[0m \u001b[39m# Similar to Index.get_value, but we do not fall back to positional\u001b[39;00m\n\u001b[0;32m-> 1156\u001b[0m loc \u001b[39m=\u001b[39m \u001b[39mself\u001b[39;49m\u001b[39m.\u001b[39;49mindex\u001b[39m.\u001b[39;49mget_loc(label)\n\u001b[1;32m   1158\u001b[0m \u001b[39mif\u001b[39;00m is_integer(loc):\n\u001b[1;32m   1159\u001b[0m     \u001b[39mreturn\u001b[39;00m \u001b[39mself\u001b[39m\u001b[39m.\u001b[39m_values[loc]\n",
      "File \u001b[0;32m~/miniconda3/envs/llmSeminar/lib/python3.12/site-packages/pandas/core/indexes/base.py:3797\u001b[0m, in \u001b[0;36mIndex.get_loc\u001b[0;34m(self, key)\u001b[0m\n\u001b[1;32m   3792\u001b[0m     \u001b[39mif\u001b[39;00m \u001b[39misinstance\u001b[39m(casted_key, \u001b[39mslice\u001b[39m) \u001b[39mor\u001b[39;00m (\n\u001b[1;32m   3793\u001b[0m         \u001b[39misinstance\u001b[39m(casted_key, abc\u001b[39m.\u001b[39mIterable)\n\u001b[1;32m   3794\u001b[0m         \u001b[39mand\u001b[39;00m \u001b[39many\u001b[39m(\u001b[39misinstance\u001b[39m(x, \u001b[39mslice\u001b[39m) \u001b[39mfor\u001b[39;00m x \u001b[39min\u001b[39;00m casted_key)\n\u001b[1;32m   3795\u001b[0m     ):\n\u001b[1;32m   3796\u001b[0m         \u001b[39mraise\u001b[39;00m InvalidIndexError(key)\n\u001b[0;32m-> 3797\u001b[0m     \u001b[39mraise\u001b[39;00m \u001b[39mKeyError\u001b[39;00m(key) \u001b[39mfrom\u001b[39;00m \u001b[39merr\u001b[39;00m\n\u001b[1;32m   3798\u001b[0m \u001b[39mexcept\u001b[39;00m \u001b[39mTypeError\u001b[39;00m:\n\u001b[1;32m   3799\u001b[0m     \u001b[39m# If we have a listlike key, _check_indexing_error will raise\u001b[39;00m\n\u001b[1;32m   3800\u001b[0m     \u001b[39m#  InvalidIndexError. Otherwise we fall through and re-raise\u001b[39;00m\n\u001b[1;32m   3801\u001b[0m     \u001b[39m#  the TypeError.\u001b[39;00m\n\u001b[1;32m   3802\u001b[0m     \u001b[39mself\u001b[39m\u001b[39m.\u001b[39m_check_indexing_error(key)\n",
      "\u001b[0;31mKeyError\u001b[0m: 0"
     ]
    }
   ],
   "source": [
    "#index_to_extract = 0  # Change this index to the desired position\n",
    "#fuzzy_match_forbes_sbti['forbes_uid2'] = fuzzy_match_forbes_sbti['forbes_uid'].apply(lambda x: x[index_to_extract] if len(x) > index_to_extract else None)\n",
    "\n",
    "def extract_value(row, colname):\n",
    "    index_to_extract = row.name  # Row index as the index to extract\n",
    "    inner_list = row[colname]\n",
    "    value = inner_list[index_to_extract]\n",
    "    return value\n",
    "\n",
    "#fuzzy_match_forbes_sbti['forbes_uid'] = fuzzy_match_forbes_sbti.apply(lambda x: extract_value(x, colname= \"forbes_uid\"), axis=1)\n",
    "fuzzy_match_forbes_sbti['sbti_uid2'] = fuzzy_match_forbes_sbti.apply(lambda x: extract_value(x, colname= \"sbti_uid\"), axis=1)\n"
   ]
  },
  {
   "cell_type": "code",
   "execution_count": 102,
   "id": "e228f874",
   "metadata": {},
   "outputs": [
    {
     "ename": "KeyError",
     "evalue": "'sbti_uid'",
     "output_type": "error",
     "traceback": [
      "\u001b[0;31m---------------------------------------------------------------------------\u001b[0m",
      "\u001b[0;31mKeyError\u001b[0m                                  Traceback (most recent call last)",
      "File \u001b[0;32m~/miniconda3/envs/llmSeminar/lib/python3.12/site-packages/pandas/core/indexes/base.py:3790\u001b[0m, in \u001b[0;36mIndex.get_loc\u001b[0;34m(self, key)\u001b[0m\n\u001b[1;32m   3789\u001b[0m \u001b[39mtry\u001b[39;00m:\n\u001b[0;32m-> 3790\u001b[0m     \u001b[39mreturn\u001b[39;00m \u001b[39mself\u001b[39;49m\u001b[39m.\u001b[39;49m_engine\u001b[39m.\u001b[39;49mget_loc(casted_key)\n\u001b[1;32m   3791\u001b[0m \u001b[39mexcept\u001b[39;00m \u001b[39mKeyError\u001b[39;00m \u001b[39mas\u001b[39;00m err:\n",
      "File \u001b[0;32mindex.pyx:152\u001b[0m, in \u001b[0;36mpandas._libs.index.IndexEngine.get_loc\u001b[0;34m()\u001b[0m\n",
      "File \u001b[0;32mindex.pyx:181\u001b[0m, in \u001b[0;36mpandas._libs.index.IndexEngine.get_loc\u001b[0;34m()\u001b[0m\n",
      "File \u001b[0;32mpandas/_libs/hashtable_class_helper.pxi:7080\u001b[0m, in \u001b[0;36mpandas._libs.hashtable.PyObjectHashTable.get_item\u001b[0;34m()\u001b[0m\n",
      "File \u001b[0;32mpandas/_libs/hashtable_class_helper.pxi:7088\u001b[0m, in \u001b[0;36mpandas._libs.hashtable.PyObjectHashTable.get_item\u001b[0;34m()\u001b[0m\n",
      "\u001b[0;31mKeyError\u001b[0m: 'sbti_uid'",
      "\nThe above exception was the direct cause of the following exception:\n",
      "\u001b[0;31mKeyError\u001b[0m                                  Traceback (most recent call last)",
      "\u001b[1;32m/home/maria/STUDIUM/Master/5.Semester/web data integration/Project/WebDataIntegrationProj/Python/Fuzzy Match.ipynb Cell 17\u001b[0m line \u001b[0;36m1\n\u001b[0;32m----> <a href='vscode-notebook-cell:/home/maria/STUDIUM/Master/5.Semester/web%20data%20integration/Project/WebDataIntegrationProj/Python/Fuzzy%20Match.ipynb#X21sZmlsZQ%3D%3D?line=0'>1</a>\u001b[0m t \u001b[39m=\u001b[39m fuzzy_match_forbes_sbti[\u001b[39m\"\u001b[39;49m\u001b[39msbti_uid\u001b[39;49m\u001b[39m\"\u001b[39;49m][\u001b[39m0\u001b[39m]\u001b[39m.\u001b[39mindex\n",
      "File \u001b[0;32m~/miniconda3/envs/llmSeminar/lib/python3.12/site-packages/pandas/core/frame.py:3896\u001b[0m, in \u001b[0;36mDataFrame.__getitem__\u001b[0;34m(self, key)\u001b[0m\n\u001b[1;32m   3894\u001b[0m \u001b[39mif\u001b[39;00m \u001b[39mself\u001b[39m\u001b[39m.\u001b[39mcolumns\u001b[39m.\u001b[39mnlevels \u001b[39m>\u001b[39m \u001b[39m1\u001b[39m:\n\u001b[1;32m   3895\u001b[0m     \u001b[39mreturn\u001b[39;00m \u001b[39mself\u001b[39m\u001b[39m.\u001b[39m_getitem_multilevel(key)\n\u001b[0;32m-> 3896\u001b[0m indexer \u001b[39m=\u001b[39m \u001b[39mself\u001b[39;49m\u001b[39m.\u001b[39;49mcolumns\u001b[39m.\u001b[39;49mget_loc(key)\n\u001b[1;32m   3897\u001b[0m \u001b[39mif\u001b[39;00m is_integer(indexer):\n\u001b[1;32m   3898\u001b[0m     indexer \u001b[39m=\u001b[39m [indexer]\n",
      "File \u001b[0;32m~/miniconda3/envs/llmSeminar/lib/python3.12/site-packages/pandas/core/indexes/base.py:3797\u001b[0m, in \u001b[0;36mIndex.get_loc\u001b[0;34m(self, key)\u001b[0m\n\u001b[1;32m   3792\u001b[0m     \u001b[39mif\u001b[39;00m \u001b[39misinstance\u001b[39m(casted_key, \u001b[39mslice\u001b[39m) \u001b[39mor\u001b[39;00m (\n\u001b[1;32m   3793\u001b[0m         \u001b[39misinstance\u001b[39m(casted_key, abc\u001b[39m.\u001b[39mIterable)\n\u001b[1;32m   3794\u001b[0m         \u001b[39mand\u001b[39;00m \u001b[39many\u001b[39m(\u001b[39misinstance\u001b[39m(x, \u001b[39mslice\u001b[39m) \u001b[39mfor\u001b[39;00m x \u001b[39min\u001b[39;00m casted_key)\n\u001b[1;32m   3795\u001b[0m     ):\n\u001b[1;32m   3796\u001b[0m         \u001b[39mraise\u001b[39;00m InvalidIndexError(key)\n\u001b[0;32m-> 3797\u001b[0m     \u001b[39mraise\u001b[39;00m \u001b[39mKeyError\u001b[39;00m(key) \u001b[39mfrom\u001b[39;00m \u001b[39merr\u001b[39;00m\n\u001b[1;32m   3798\u001b[0m \u001b[39mexcept\u001b[39;00m \u001b[39mTypeError\u001b[39;00m:\n\u001b[1;32m   3799\u001b[0m     \u001b[39m# If we have a listlike key, _check_indexing_error will raise\u001b[39;00m\n\u001b[1;32m   3800\u001b[0m     \u001b[39m#  InvalidIndexError. Otherwise we fall through and re-raise\u001b[39;00m\n\u001b[1;32m   3801\u001b[0m     \u001b[39m#  the TypeError.\u001b[39;00m\n\u001b[1;32m   3802\u001b[0m     \u001b[39mself\u001b[39m\u001b[39m.\u001b[39m_check_indexing_error(key)\n",
      "\u001b[0;31mKeyError\u001b[0m: 'sbti_uid'"
     ]
    }
   ],
   "source": [
    "t = fuzzy_match_forbes_sbti[\"sbti_uid\"][0].index"
   ]
  }
 ],
 "metadata": {
  "kernelspec": {
   "display_name": "Python 3 (ipykernel)",
   "language": "python",
   "name": "python3"
  },
  "language_info": {
   "codemirror_mode": {
    "name": "ipython",
    "version": 3
   },
   "file_extension": ".py",
   "mimetype": "text/x-python",
   "name": "python",
   "nbconvert_exporter": "python",
   "pygments_lexer": "ipython3",
   "version": "3.12.0"
  }
 },
 "nbformat": 4,
 "nbformat_minor": 5
}
