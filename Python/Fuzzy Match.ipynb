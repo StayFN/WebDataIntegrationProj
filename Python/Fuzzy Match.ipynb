{
 "cells": [
  {
   "cell_type": "markdown",
   "id": "4f959869",
   "metadata": {},
   "source": [
    "# Fuzzy Match, Preprocessing"
   ]
  },
  {
   "cell_type": "code",
   "execution_count": 32,
   "id": "c9010ac1",
   "metadata": {},
   "outputs": [],
   "source": [
    "#pip install fuzzywuzzy"
   ]
  },
  {
   "cell_type": "code",
   "execution_count": 27,
   "id": "54c6c754",
   "metadata": {},
   "outputs": [],
   "source": [
    "import pandas as pd\n",
    "import openpyxl\n",
    "\n",
    "dbpedia = pd.read_csv(\"Datasets/DBPedia_Companies_Preprocessed.csv\")\n",
    "sbti = pd.read_excel(\"Datasets/SBTI.xlsx\")\n",
    "forbes=pd.read_csv(\"Datasets/Forbes_2000.csv\")\n"
   ]
  },
  {
   "cell_type": "code",
   "execution_count": 28,
   "id": "2f89ce08",
   "metadata": {},
   "outputs": [],
   "source": [
    "#create lists out of company names\n",
    "dbpedia = dbpedia.iloc[:, 2].tolist()\n",
    "sbti = sbti.iloc[:, 1].tolist()\n",
    "forbes= forbes.iloc[:, 1].tolist()"
   ]
  },
  {
   "cell_type": "markdown",
   "id": "109c1d56",
   "metadata": {},
   "source": [
    "# Fuzzy match with 90% minimal similarity score"
   ]
  },
  {
   "cell_type": "code",
   "execution_count": 34,
   "id": "56d48a2c",
   "metadata": {},
   "outputs": [
    {
     "name": "stdout",
     "output_type": "stream",
     "text": [
      "     Match ID                   Name1                Matched Name  \\\n",
      "0      db_sb1   Rogers Communications  Rogers Communications Inc.   \n",
      "1      db_sb2                 Aramark                     Aramark   \n",
      "2      db_sb3         MPC Corporation             SMC Corporation   \n",
      "3      db_sb4         SMC Corporation             SMC Corporation   \n",
      "4      db_sb5         CDI Corporation             CDW Corporation   \n",
      "..        ...                     ...                         ...   \n",
      "127  db_sb128    Simon Property Group        Simon Property Group   \n",
      "128  db_sb129  Fortescue Metals Group  Fortescue Metals Group Ltd   \n",
      "129  db_sb130        HM International        Hermès International   \n",
      "130  db_sb131                   Kakao                       Kakao   \n",
      "131  db_sb132                 Netflix                     Netflix   \n",
      "\n",
      "     Similarity Score  \n",
      "0                  91  \n",
      "1                 100  \n",
      "2                  93  \n",
      "3                 100  \n",
      "4                  93  \n",
      "..                ...  \n",
      "127               100  \n",
      "128                92  \n",
      "129                91  \n",
      "130               100  \n",
      "131               100  \n",
      "\n",
      "[132 rows x 4 columns]\n"
     ]
    }
   ],
   "source": [
    "min_similarity_score = 90  # You can set this threshold based on your requirements\n",
    "fuzzy_match_results = []\n",
    "match_id = 1\n",
    "\n",
    "for name1 in dbpedia:\n",
    "    match, score = process.extractOne(name1, sbti, scorer=fuzz.token_sort_ratio)\n",
    "    \n",
    "    if score >= min_similarity_score:\n",
    "        match_info = {\n",
    "            \"Match ID\": \"db_sb\" + str(match_id),\n",
    "            \"Name1\": name1,\n",
    "            \"Matched Name\": match,\n",
    "            \"Similarity Score\": score\n",
    "        }\n",
    "        fuzzy_match_results.append(match_info)\n",
    "        match_id += 1\n",
    "\n",
    "fuzzy_match_df = pd.DataFrame(fuzzy_match_results)\n",
    "\n",
    "print(fuzzy_match_df)\n",
    "fuzzy_match_df.to_excel(\"Datasets/db_sb_fuzzy_match_results.xlsx\", index=False)\n"
   ]
  },
  {
   "cell_type": "code",
   "execution_count": 35,
   "id": "38766b7d",
   "metadata": {},
   "outputs": [
    {
     "name": "stdout",
     "output_type": "stream",
     "text": [
      "     Match ID                   SBTI Name             Forbes Name  \\\n",
      "0      sb_fo1                    AB Sagax                AB Sagax   \n",
      "1      sb_fo2                         ABB                     ABB   \n",
      "2      sb_fo3                      AbbVie                  AbbVie   \n",
      "3      sb_fo4         Activision Blizzard     Activision Blizzard   \n",
      "4      sb_fo5     Advance Auto Parts, Inc      Advance Auto Parts   \n",
      "..        ...                         ...                     ...   \n",
      "234  sb_fo235    Yum China Holdings, Inc.      Yum China Holdings   \n",
      "235  sb_fo236               Zimmer Biomet           Zimmer Biomet   \n",
      "236  sb_fo237   ZTO Express (Cayman) Inc.    ZTO Express (Cayman)   \n",
      "237  sb_fo238  Zurich Insurance Group Ltd  Zurich Insurance Group   \n",
      "238  sb_fo239                      Ørsted                  Orsted   \n",
      "\n",
      "     Similarity Score  \n",
      "0                 100  \n",
      "1                 100  \n",
      "2                 100  \n",
      "3                 100  \n",
      "4                  90  \n",
      "..                ...  \n",
      "234                90  \n",
      "235               100  \n",
      "236                90  \n",
      "237                92  \n",
      "238                91  \n",
      "\n",
      "[239 rows x 4 columns]\n"
     ]
    }
   ],
   "source": [
    "min_similarity_score = 90 \n",
    "fuzzy_match_results = []\n",
    "match_id = 1\n",
    "\n",
    "for name1 in sbti:\n",
    "    match, score = process.extractOne(name1, forbes, scorer=fuzz.token_sort_ratio)\n",
    "    \n",
    "    if score >= min_similarity_score:\n",
    "        match_info = {\n",
    "            \"Match ID\": \"sb_fo\" + str(match_id),\n",
    "            \"SBTI Name\": name1,\n",
    "            \"Forbes Name\": match,\n",
    "            \"Similarity Score\": score\n",
    "        }\n",
    "        fuzzy_match_results.append(match_info)\n",
    "        match_id += 1\n",
    "\n",
    "fuzzy_match_df = pd.DataFrame(fuzzy_match_results)\n",
    "\n",
    "print(fuzzy_match_df)\n",
    "fuzzy_match_df.to_excel(\"Datasets/sb_fo_fuzzy_match_results.xlsx\", index=False)"
   ]
  }
 ],
 "metadata": {
  "kernelspec": {
   "display_name": "Python 3 (ipykernel)",
   "language": "python",
   "name": "python3"
  },
  "language_info": {
   "codemirror_mode": {
    "name": "ipython",
    "version": 3
   },
   "file_extension": ".py",
   "mimetype": "text/x-python",
   "name": "python",
   "nbconvert_exporter": "python",
   "pygments_lexer": "ipython3",
   "version": "3.9.16"
  }
 },
 "nbformat": 4,
 "nbformat_minor": 5
}
