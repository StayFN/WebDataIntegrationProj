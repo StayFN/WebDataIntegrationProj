{
 "cells": [
  {
   "cell_type": "code",
   "execution_count": 11,
   "metadata": {},
   "outputs": [
    {
     "name": "stdout",
     "output_type": "stream",
     "text": [
      "Data cleaned and saved to: forbes_2_dbpedia_correspondences_cleaned.csv\n"
     ]
    }
   ],
   "source": [
    "import csv\n",
    "\n",
    "# Specify the paths to your input and output CSV files\n",
    "input_csv_path = 'forbes_2_dbpedia_correspondences.csv'\n",
    "output_csv_path = 'forbes_2_dbpedia_correspondences_cleaned.csv'\n",
    "\n",
    "# Open the input CSV file and read its contents\n",
    "with open(input_csv_path, newline='') as csvfile:\n",
    "    # Create a CSV reader\n",
    "    csv_reader = csv.reader(csvfile)\n",
    "\n",
    "    # Read data and remove double quotes\n",
    "    data = [[entry.strip('\"') for entry in row] for row in csv_reader]\n",
    "\n",
    "# Open the output CSV file and write the cleaned data\n",
    "with open(output_csv_path, 'w', newline='') as csvfile:\n",
    "    # Create a CSV writer\n",
    "    csv_writer = csv.writer(csvfile)\n",
    "\n",
    "    # Write the cleaned data to the output CSV file\n",
    "    csv_writer.writerows(data)\n",
    "\n",
    "print(f\"Data cleaned and saved to: {output_csv_path}\")\n"
   ]
  },
  {
   "cell_type": "code",
   "execution_count": null,
   "metadata": {},
   "outputs": [],
   "source": []
  }
 ],
 "metadata": {
  "kernelspec": {
   "display_name": "WDI",
   "language": "python",
   "name": "python3"
  },
  "language_info": {
   "codemirror_mode": {
    "name": "ipython",
    "version": 3
   },
   "file_extension": ".py",
   "mimetype": "text/x-python",
   "name": "python",
   "nbconvert_exporter": "python",
   "pygments_lexer": "ipython3",
   "version": "3.8.16"
  }
 },
 "nbformat": 4,
 "nbformat_minor": 2
}
